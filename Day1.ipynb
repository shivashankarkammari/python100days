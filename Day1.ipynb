{
 "cells": [
  {
   "cell_type": "code",
   "execution_count": 3,
   "id": "fece1012-db68-4cdc-b598-c7ef01cb18ef",
   "metadata": {},
   "outputs": [
    {
     "name": "stdout",
     "output_type": "stream",
     "text": [
      "Welcome to band name generator!\n"
     ]
    },
    {
     "name": "stdin",
     "output_type": "stream",
     "text": [
      "What is the name of the city that you have grown up?\n",
      " sadasivpet\n",
      "What is the name of your pet?\n",
      " leo\n"
     ]
    },
    {
     "name": "stdout",
     "output_type": "stream",
     "text": [
      "Name of your band is sadasivpet leo's\n"
     ]
    }
   ],
   "source": [
    "#  Day1: we are learing the usage of print(),input(),string manupilation\n",
    "# project: bandNameGenerator which takes name of your town and pet to give you the band name.\n",
    "\n",
    "print(\"Welcome to band name generator!\")\n",
    "city = input(\"What is the name of the city that you have grown up?\\n\")\n",
    "pet_name = input(\"What is the name of your pet?\\n\")\n",
    "band_name = city +\" \"+ pet_name + \"'s\"\n",
    "print(f\"Name of your band is {band_name}\")"
   ]
  },
  {
   "cell_type": "code",
   "execution_count": null,
   "id": "08049cd4-1285-451f-830a-c6c4423c69f2",
   "metadata": {},
   "outputs": [],
   "source": []
  }
 ],
 "metadata": {
  "kernelspec": {
   "display_name": "Python 3 (ipykernel)",
   "language": "python",
   "name": "python3"
  },
  "language_info": {
   "codemirror_mode": {
    "name": "ipython",
    "version": 3
   },
   "file_extension": ".py",
   "mimetype": "text/x-python",
   "name": "python",
   "nbconvert_exporter": "python",
   "pygments_lexer": "ipython3",
   "version": "3.11.5"
  }
 },
 "nbformat": 4,
 "nbformat_minor": 5
}
